{
 "cells": [
  {
   "cell_type": "code",
   "execution_count": 1,
   "id": "e45e17d2",
   "metadata": {},
   "outputs": [
    {
     "name": "stdout",
     "output_type": "stream",
     "text": [
      "Collecting datetime\n",
      "  Using cached DateTime-4.4-py2.py3-none-any.whl (51 kB)\n",
      "Requirement already satisfied: zope.interface in c:\\users\\fiery518\\anaconda3\\lib\\site-packages (from datetime) (5.4.0)\n",
      "Requirement already satisfied: pytz in c:\\users\\fiery518\\anaconda3\\lib\\site-packages (from datetime) (2021.3)\n",
      "Requirement already satisfied: setuptools in c:\\users\\fiery518\\anaconda3\\lib\\site-packages (from zope.interface->datetime) (58.0.4)\n",
      "Installing collected packages: datetime\n",
      "Successfully installed datetime-4.4\n",
      "Note: you may need to restart the kernel to use updated packages.\n"
     ]
    }
   ],
   "source": [
    "pip install datetime"
   ]
  },
  {
   "cell_type": "code",
   "execution_count": 2,
   "id": "8787dfc5",
   "metadata": {},
   "outputs": [
    {
     "name": "stdout",
     "output_type": "stream",
     "text": [
      "Requirement already satisfied: seaborn in c:\\users\\fiery518\\anaconda3\\lib\\site-packages (0.11.2)\n",
      "Requirement already satisfied: numpy>=1.15 in c:\\users\\fiery518\\anaconda3\\lib\\site-packages (from seaborn) (1.20.3)\n",
      "Requirement already satisfied: matplotlib>=2.2 in c:\\users\\fiery518\\anaconda3\\lib\\site-packages (from seaborn) (3.4.3)\n",
      "Requirement already satisfied: scipy>=1.0 in c:\\users\\fiery518\\anaconda3\\lib\\site-packages (from seaborn) (1.7.1)\n",
      "Requirement already satisfied: pandas>=0.23 in c:\\users\\fiery518\\anaconda3\\lib\\site-packages (from seaborn) (1.3.4)\n",
      "Requirement already satisfied: python-dateutil>=2.7 in c:\\users\\fiery518\\anaconda3\\lib\\site-packages (from matplotlib>=2.2->seaborn) (2.8.2)\n",
      "Requirement already satisfied: pillow>=6.2.0 in c:\\users\\fiery518\\anaconda3\\lib\\site-packages (from matplotlib>=2.2->seaborn) (8.4.0)\n",
      "Requirement already satisfied: cycler>=0.10 in c:\\users\\fiery518\\anaconda3\\lib\\site-packages (from matplotlib>=2.2->seaborn) (0.10.0)\n",
      "Requirement already satisfied: kiwisolver>=1.0.1 in c:\\users\\fiery518\\anaconda3\\lib\\site-packages (from matplotlib>=2.2->seaborn) (1.3.1)\n",
      "Requirement already satisfied: pyparsing>=2.2.1 in c:\\users\\fiery518\\anaconda3\\lib\\site-packages (from matplotlib>=2.2->seaborn) (3.0.4)\n",
      "Requirement already satisfied: six in c:\\users\\fiery518\\anaconda3\\lib\\site-packages (from cycler>=0.10->matplotlib>=2.2->seaborn) (1.16.0)\n",
      "Requirement already satisfied: pytz>=2017.3 in c:\\users\\fiery518\\anaconda3\\lib\\site-packages (from pandas>=0.23->seaborn) (2021.3)\n",
      "Note: you may need to restart the kernel to use updated packages.\n"
     ]
    }
   ],
   "source": [
    "pip install seaborn"
   ]
  },
  {
   "cell_type": "code",
   "execution_count": 17,
   "id": "c4b6afe2",
   "metadata": {},
   "outputs": [
    {
     "name": "stdout",
     "output_type": "stream",
     "text": [
      "Collecting bz2file\n",
      "  Downloading bz2file-0.98.tar.gz (11 kB)\n",
      "Building wheels for collected packages: bz2file\n",
      "  Building wheel for bz2file (setup.py): started\n",
      "  Building wheel for bz2file (setup.py): finished with status 'done'Note: you may need to restart the kernel to use updated packages.\n",
      "\n",
      "  Created wheel for bz2file: filename=bz2file-0.98-py3-none-any.whl size=6883 sha256=2129d3f3ad8f9ac5c82dd4bb9b40c0cf9d9617aae2958daf25c8cf5e05b8b451\n",
      "  Stored in directory: c:\\users\\fiery518\\appdata\\local\\pip\\cache\\wheels\\d9\\b8\\e1\\45ef4a93bf3ae5a374c13809abc1f9e676f41d7603277e953b\n",
      "Successfully built bz2file\n",
      "Installing collected packages: bz2file\n",
      "Successfully installed bz2file-0.98\n"
     ]
    }
   ],
   "source": [
    "pip install bz2file"
   ]
  },
  {
   "cell_type": "code",
   "execution_count": 1,
   "id": "136c38a0",
   "metadata": {},
   "outputs": [],
   "source": [
    "import datetime as dt\n",
    "import pandas as pd \n",
    "import numpy as np \n",
    "import seaborn as sns\n",
    "import matplotlib.pyplot as plt\n",
    "\n",
    "from sklearn.model_selection import train_test_split\n",
    "from sklearn.metrics import accuracy_score,classification_report\n",
    "from sklearn.ensemble import RandomForestRegressor"
   ]
  },
  {
   "cell_type": "code",
   "execution_count": 2,
   "id": "268a818f",
   "metadata": {},
   "outputs": [],
   "source": [
    "forest = pd.read_csv('fire_archive.csv')"
   ]
  },
  {
   "cell_type": "code",
   "execution_count": 3,
   "id": "3aa54c71",
   "metadata": {},
   "outputs": [
    {
     "data": {
      "text/html": [
       "<div>\n",
       "<style scoped>\n",
       "    .dataframe tbody tr th:only-of-type {\n",
       "        vertical-align: middle;\n",
       "    }\n",
       "\n",
       "    .dataframe tbody tr th {\n",
       "        vertical-align: top;\n",
       "    }\n",
       "\n",
       "    .dataframe thead th {\n",
       "        text-align: right;\n",
       "    }\n",
       "</style>\n",
       "<table border=\"1\" class=\"dataframe\">\n",
       "  <thead>\n",
       "    <tr style=\"text-align: right;\">\n",
       "      <th></th>\n",
       "      <th>latitude</th>\n",
       "      <th>longitude</th>\n",
       "      <th>brightness</th>\n",
       "      <th>scan</th>\n",
       "      <th>track</th>\n",
       "      <th>acq_date</th>\n",
       "      <th>acq_time</th>\n",
       "      <th>satellite</th>\n",
       "      <th>instrument</th>\n",
       "      <th>confidence</th>\n",
       "      <th>version</th>\n",
       "      <th>bright_t31</th>\n",
       "      <th>frp</th>\n",
       "      <th>daynight</th>\n",
       "      <th>type</th>\n",
       "    </tr>\n",
       "  </thead>\n",
       "  <tbody>\n",
       "    <tr>\n",
       "      <th>0</th>\n",
       "      <td>-11.8070</td>\n",
       "      <td>142.0583</td>\n",
       "      <td>313.0</td>\n",
       "      <td>1.0</td>\n",
       "      <td>1.0</td>\n",
       "      <td>2019-08-01</td>\n",
       "      <td>56</td>\n",
       "      <td>Terra</td>\n",
       "      <td>MODIS</td>\n",
       "      <td>48</td>\n",
       "      <td>6.3</td>\n",
       "      <td>297.3</td>\n",
       "      <td>6.6</td>\n",
       "      <td>D</td>\n",
       "      <td>0</td>\n",
       "    </tr>\n",
       "    <tr>\n",
       "      <th>1</th>\n",
       "      <td>-11.7924</td>\n",
       "      <td>142.0850</td>\n",
       "      <td>319.3</td>\n",
       "      <td>1.0</td>\n",
       "      <td>1.0</td>\n",
       "      <td>2019-08-01</td>\n",
       "      <td>56</td>\n",
       "      <td>Terra</td>\n",
       "      <td>MODIS</td>\n",
       "      <td>71</td>\n",
       "      <td>6.3</td>\n",
       "      <td>297.3</td>\n",
       "      <td>11.3</td>\n",
       "      <td>D</td>\n",
       "      <td>0</td>\n",
       "    </tr>\n",
       "    <tr>\n",
       "      <th>2</th>\n",
       "      <td>-12.8398</td>\n",
       "      <td>132.8744</td>\n",
       "      <td>311.6</td>\n",
       "      <td>3.1</td>\n",
       "      <td>1.7</td>\n",
       "      <td>2019-08-01</td>\n",
       "      <td>57</td>\n",
       "      <td>Terra</td>\n",
       "      <td>MODIS</td>\n",
       "      <td>42</td>\n",
       "      <td>6.3</td>\n",
       "      <td>298.7</td>\n",
       "      <td>23.1</td>\n",
       "      <td>D</td>\n",
       "      <td>0</td>\n",
       "    </tr>\n",
       "    <tr>\n",
       "      <th>3</th>\n",
       "      <td>-14.4306</td>\n",
       "      <td>143.3035</td>\n",
       "      <td>310.1</td>\n",
       "      <td>1.1</td>\n",
       "      <td>1.1</td>\n",
       "      <td>2019-08-01</td>\n",
       "      <td>57</td>\n",
       "      <td>Terra</td>\n",
       "      <td>MODIS</td>\n",
       "      <td>33</td>\n",
       "      <td>6.3</td>\n",
       "      <td>296.1</td>\n",
       "      <td>6.5</td>\n",
       "      <td>D</td>\n",
       "      <td>0</td>\n",
       "    </tr>\n",
       "    <tr>\n",
       "      <th>4</th>\n",
       "      <td>-12.4953</td>\n",
       "      <td>131.4897</td>\n",
       "      <td>310.3</td>\n",
       "      <td>4.0</td>\n",
       "      <td>1.9</td>\n",
       "      <td>2019-08-01</td>\n",
       "      <td>57</td>\n",
       "      <td>Terra</td>\n",
       "      <td>MODIS</td>\n",
       "      <td>36</td>\n",
       "      <td>6.3</td>\n",
       "      <td>298.8</td>\n",
       "      <td>27.6</td>\n",
       "      <td>D</td>\n",
       "      <td>0</td>\n",
       "    </tr>\n",
       "  </tbody>\n",
       "</table>\n",
       "</div>"
      ],
      "text/plain": [
       "   latitude  longitude  brightness  scan  track    acq_date  acq_time  \\\n",
       "0  -11.8070   142.0583       313.0   1.0    1.0  2019-08-01        56   \n",
       "1  -11.7924   142.0850       319.3   1.0    1.0  2019-08-01        56   \n",
       "2  -12.8398   132.8744       311.6   3.1    1.7  2019-08-01        57   \n",
       "3  -14.4306   143.3035       310.1   1.1    1.1  2019-08-01        57   \n",
       "4  -12.4953   131.4897       310.3   4.0    1.9  2019-08-01        57   \n",
       "\n",
       "  satellite instrument  confidence  version  bright_t31   frp daynight  type  \n",
       "0     Terra      MODIS          48      6.3       297.3   6.6        D     0  \n",
       "1     Terra      MODIS          71      6.3       297.3  11.3        D     0  \n",
       "2     Terra      MODIS          42      6.3       298.7  23.1        D     0  \n",
       "3     Terra      MODIS          33      6.3       296.1   6.5        D     0  \n",
       "4     Terra      MODIS          36      6.3       298.8  27.6        D     0  "
      ]
     },
     "execution_count": 3,
     "metadata": {},
     "output_type": "execute_result"
    }
   ],
   "source": [
    "forest.head()"
   ]
  },
  {
   "cell_type": "code",
   "execution_count": 4,
   "id": "5ea5ca7e",
   "metadata": {},
   "outputs": [
    {
     "data": {
      "text/plain": [
       "(36011, 15)"
      ]
     },
     "execution_count": 4,
     "metadata": {},
     "output_type": "execute_result"
    }
   ],
   "source": [
    "forest.shape"
   ]
  },
  {
   "cell_type": "code",
   "execution_count": 5,
   "id": "25983dd5",
   "metadata": {},
   "outputs": [
    {
     "data": {
      "text/plain": [
       "Index(['latitude', 'longitude', 'brightness', 'scan', 'track', 'acq_date',\n",
       "       'acq_time', 'satellite', 'instrument', 'confidence', 'version',\n",
       "       'bright_t31', 'frp', 'daynight', 'type'],\n",
       "      dtype='object')"
      ]
     },
     "execution_count": 5,
     "metadata": {},
     "output_type": "execute_result"
    }
   ],
   "source": [
    "forest.columns"
   ]
  },
  {
   "cell_type": "code",
   "execution_count": 6,
   "id": "3e76505b",
   "metadata": {},
   "outputs": [
    {
     "data": {
      "text/plain": [
       "<AxesSubplot:>"
      ]
     },
     "execution_count": 6,
     "metadata": {},
     "output_type": "execute_result"
    },
    {
     "data": {
      "image/png": "[encoded data removed]",
      "text/plain": [
       "<Figure size 720x720 with 2 Axes>"
      ]
     },
     "metadata": {
      "needs_background": "light"
     },
     "output_type": "display_data"
    }
   ],
   "source": [
    "plt.figure(figsize=(10, 10))\n",
    "sns.heatmap(forest.corr(),annot=True,cmap='viridis',linewidths=.5)"
   ]
  },
  {
   "cell_type": "code",
   "execution_count": 7,
   "id": "b7505965",
   "metadata": {},
   "outputs": [],
   "source": [
    "forest = forest.drop(['track'], axis = 1)"
   ]
  },
  {
   "cell_type": "code",
   "execution_count": 8,
   "id": "ebbd4d91",
   "metadata": {},
   "outputs": [],
   "source": [
    "forest = forest.drop(['instrument', 'version'], axis = 1)"
   ]
  },
  {
   "cell_type": "code",
   "execution_count": 9,
   "id": "de0095a5",
   "metadata": {},
   "outputs": [],
   "source": [
    "daynight_map = {\"D\": 1, \"N\": 0}\n",
    "satellite_map = {\"Terra\": 1, \"Aqua\": 0}\n",
    "\n",
    "forest['daynight'] = forest['daynight'].map(daynight_map)\n",
    "forest['satellite'] = forest['satellite'].map(satellite_map)"
   ]
  },
  {
   "cell_type": "code",
   "execution_count": 10,
   "id": "7b318595",
   "metadata": {},
   "outputs": [
    {
     "data": {
      "text/plain": [
       "0    35666\n",
       "2      335\n",
       "3       10\n",
       "Name: type, dtype: int64"
      ]
     },
     "execution_count": 10,
     "metadata": {},
     "output_type": "execute_result"
    }
   ],
   "source": [
    "forest['type'].value_counts()"
   ]
  },
  {
   "cell_type": "code",
   "execution_count": 11,
   "id": "d8557eba",
   "metadata": {},
   "outputs": [],
   "source": [
    "types = pd.get_dummies(forest['type'])\n",
    "forest = pd.concat([forest, types], axis=1)"
   ]
  },
  {
   "cell_type": "code",
   "execution_count": 12,
   "id": "e5dc37ae",
   "metadata": {},
   "outputs": [
    {
     "data": {
      "text/html": [
       "<div>\n",
       "<style scoped>\n",
       "    .dataframe tbody tr th:only-of-type {\n",
       "        vertical-align: middle;\n",
       "    }\n",
       "\n",
       "    .dataframe tbody tr th {\n",
       "        vertical-align: top;\n",
       "    }\n",
       "\n",
       "    .dataframe thead th {\n",
       "        text-align: right;\n",
       "    }\n",
       "</style>\n",
       "<table border=\"1\" class=\"dataframe\">\n",
       "  <thead>\n",
       "    <tr style=\"text-align: right;\">\n",
       "      <th></th>\n",
       "      <th>latitude</th>\n",
       "      <th>longitude</th>\n",
       "      <th>brightness</th>\n",
       "      <th>scan</th>\n",
       "      <th>acq_date</th>\n",
       "      <th>acq_time</th>\n",
       "      <th>satellite</th>\n",
       "      <th>confidence</th>\n",
       "      <th>bright_t31</th>\n",
       "      <th>frp</th>\n",
       "      <th>daynight</th>\n",
       "      <th>0</th>\n",
       "      <th>2</th>\n",
       "      <th>3</th>\n",
       "    </tr>\n",
       "  </thead>\n",
       "  <tbody>\n",
       "    <tr>\n",
       "      <th>0</th>\n",
       "      <td>-11.8070</td>\n",
       "      <td>142.0583</td>\n",
       "      <td>313.0</td>\n",
       "      <td>1.0</td>\n",
       "      <td>2019-08-01</td>\n",
       "      <td>56</td>\n",
       "      <td>1</td>\n",
       "      <td>48</td>\n",
       "      <td>297.3</td>\n",
       "      <td>6.6</td>\n",
       "      <td>1</td>\n",
       "      <td>1</td>\n",
       "      <td>0</td>\n",
       "      <td>0</td>\n",
       "    </tr>\n",
       "    <tr>\n",
       "      <th>1</th>\n",
       "      <td>-11.7924</td>\n",
       "      <td>142.0850</td>\n",
       "      <td>319.3</td>\n",
       "      <td>1.0</td>\n",
       "      <td>2019-08-01</td>\n",
       "      <td>56</td>\n",
       "      <td>1</td>\n",
       "      <td>71</td>\n",
       "      <td>297.3</td>\n",
       "      <td>11.3</td>\n",
       "      <td>1</td>\n",
       "      <td>1</td>\n",
       "      <td>0</td>\n",
       "      <td>0</td>\n",
       "    </tr>\n",
       "    <tr>\n",
       "      <th>2</th>\n",
       "      <td>-12.8398</td>\n",
       "      <td>132.8744</td>\n",
       "      <td>311.6</td>\n",
       "      <td>3.1</td>\n",
       "      <td>2019-08-01</td>\n",
       "      <td>57</td>\n",
       "      <td>1</td>\n",
       "      <td>42</td>\n",
       "      <td>298.7</td>\n",
       "      <td>23.1</td>\n",
       "      <td>1</td>\n",
       "      <td>1</td>\n",
       "      <td>0</td>\n",
       "      <td>0</td>\n",
       "    </tr>\n",
       "    <tr>\n",
       "      <th>3</th>\n",
       "      <td>-14.4306</td>\n",
       "      <td>143.3035</td>\n",
       "      <td>310.1</td>\n",
       "      <td>1.1</td>\n",
       "      <td>2019-08-01</td>\n",
       "      <td>57</td>\n",
       "      <td>1</td>\n",
       "      <td>33</td>\n",
       "      <td>296.1</td>\n",
       "      <td>6.5</td>\n",
       "      <td>1</td>\n",
       "      <td>1</td>\n",
       "      <td>0</td>\n",
       "      <td>0</td>\n",
       "    </tr>\n",
       "    <tr>\n",
       "      <th>4</th>\n",
       "      <td>-12.4953</td>\n",
       "      <td>131.4897</td>\n",
       "      <td>310.3</td>\n",
       "      <td>4.0</td>\n",
       "      <td>2019-08-01</td>\n",
       "      <td>57</td>\n",
       "      <td>1</td>\n",
       "      <td>36</td>\n",
       "      <td>298.8</td>\n",
       "      <td>27.6</td>\n",
       "      <td>1</td>\n",
       "      <td>1</td>\n",
       "      <td>0</td>\n",
       "      <td>0</td>\n",
       "    </tr>\n",
       "  </tbody>\n",
       "</table>\n",
       "</div>"
      ],
      "text/plain": [
       "   latitude  longitude  brightness  scan    acq_date  acq_time  satellite  \\\n",
       "0  -11.8070   142.0583       313.0   1.0  2019-08-01        56          1   \n",
       "1  -11.7924   142.0850       319.3   1.0  2019-08-01        56          1   \n",
       "2  -12.8398   132.8744       311.6   3.1  2019-08-01        57          1   \n",
       "3  -14.4306   143.3035       310.1   1.1  2019-08-01        57          1   \n",
       "4  -12.4953   131.4897       310.3   4.0  2019-08-01        57          1   \n",
       "\n",
       "   confidence  bright_t31   frp  daynight  0  2  3  \n",
       "0          48       297.3   6.6         1  1  0  0  \n",
       "1          71       297.3  11.3         1  1  0  0  \n",
       "2          42       298.7  23.1         1  1  0  0  \n",
       "3          33       296.1   6.5         1  1  0  0  \n",
       "4          36       298.8  27.6         1  1  0  0  "
      ]
     },
     "execution_count": 12,
     "metadata": {},
     "output_type": "execute_result"
    }
   ],
   "source": [
    "forest = forest.drop(['type'], axis = 1)\n",
    "forest.head()\n"
   ]
  },
  {
   "cell_type": "code",
   "execution_count": 13,
   "id": "a3764e1e",
   "metadata": {},
   "outputs": [],
   "source": [
    "forest = forest.rename(columns={0: 'type_0', 2: 'type_2', 3: 'type_3'})"
   ]
  },
  {
   "cell_type": "code",
   "execution_count": 14,
   "id": "76f896ef",
   "metadata": {},
   "outputs": [],
   "source": [
    "bins = [0, 1, 2, 3, 4, 5]\n",
    "labels = [1,2,3,4,5]\n",
    "forest['scan_binned'] = pd.cut(forest['scan'], bins=bins, labels=labels)"
   ]
  },
  {
   "cell_type": "code",
   "execution_count": null,
   "id": "c8910d63",
   "metadata": {},
   "outputs": [],
   "source": []
  },
  {
   "cell_type": "code",
   "execution_count": null,
   "id": "ebb7f6d6",
   "metadata": {},
   "outputs": [],
   "source": []
  }
 ],
 "metadata": {
  "kernelspec": {
   "display_name": "Python 3 (ipykernel)",
   "language": "python",
   "name": "python3"
  },
  "language_info": {
   "codemirror_mode": {
    "name": "ipython",
    "version": 3
   },
   "file_extension": ".py",
   "mimetype": "text/x-python",
   "name": "python",
   "nbconvert_exporter": "python",
   "pygments_lexer": "ipython3",
   "version": "3.9.7"
  }
 },
 "nbformat": 4,
 "nbformat_minor": 5
}
